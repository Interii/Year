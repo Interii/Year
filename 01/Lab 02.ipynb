{
  "nbformat": 4,
  "nbformat_minor": 0,
  "metadata": {
    "colab": {
      "provenance": []
    },
    "kernelspec": {
      "name": "python3",
      "display_name": "Python 3"
    },
    "language_info": {
      "name": "python"
    }
  },
  "cells": [
    {
      "cell_type": "code",
      "execution_count": 1,
      "metadata": {
        "id": "n7KFdAujn9tK"
      },
      "outputs": [],
      "source": [
        "import tensorflow as tf\n",
        "\n",
        "mnist = tf.keras.datasets.mnist\n",
        "\n",
        "(train_image, train_label), (test_image, test_label) = mnist.load_data()"
      ]
    },
    {
      "cell_type": "code",
      "source": [
        "rescale = lambda val : val / 255.0\n",
        "\n",
        "train_image = rescale(train_image)\n",
        "\n",
        "test_image = rescale(test_image)"
      ],
      "metadata": {
        "id": "RoUF-PoypACV"
      },
      "execution_count": 2,
      "outputs": []
    },
    {
      "cell_type": "code",
      "source": [
        "import warnings\n",
        "\n",
        "warnings.filterwarnings(\"ignore\")\n",
        "\n",
        "model = tf.keras.models.Sequential([\n",
        "  tf.keras.layers.Flatten(input_shape=(28, 28)),\n",
        "  tf.keras.layers.Dense(128, activation='relu'),\n",
        "  tf.keras.layers.Dense(10, activation='softmax')\n",
        "])"
      ],
      "metadata": {
        "id": "i_EUL1k7p4Nh"
      },
      "execution_count": 3,
      "outputs": []
    },
    {
      "cell_type": "code",
      "source": [
        "loss = 'sparse_categorical_crossentropy'\n",
        "\n",
        "model.compile(optimizer=\"adam\", loss=loss, metrics=[\"accuracy\"])"
      ],
      "metadata": {
        "id": "VXwUwzJUp6AU"
      },
      "execution_count": 4,
      "outputs": []
    },
    {
      "cell_type": "code",
      "source": [
        "class OurCall(tf.keras.callbacks.Callback):\n",
        "  def on_epoch_end(self, epoch, logs={}):\n",
        "    if logs.get(\"accuracy\") >= 0.98:\n",
        "      self.model.stop_training = True\n",
        "\n",
        "OurCall = OurCall()"
      ],
      "metadata": {
        "id": "hMnq3VCCqs_n"
      },
      "execution_count": 5,
      "outputs": []
    },
    {
      "cell_type": "code",
      "source": [
        "hist = model.fit(train_image, train_label, epochs=8, callbacks=[OurCall])"
      ],
      "metadata": {
        "id": "5GiV8ohXqFea"
      },
      "execution_count": null,
      "outputs": []
    },
    {
      "cell_type": "code",
      "source": [
        "model.evaluate(train_image, train_label, verbose=0)"
      ],
      "metadata": {
        "colab": {
          "base_uri": "https://localhost:8080/"
        },
        "id": "xbxSPNlBsLX4",
        "outputId": "2faf1169-ee64-4522-b444-0ee8bbd920a0"
      },
      "execution_count": 7,
      "outputs": [
        {
          "output_type": "execute_result",
          "data": {
            "text/plain": [
              "[0.04392647743225098, 0.9866499900817871]"
            ]
          },
          "metadata": {},
          "execution_count": 7
        }
      ]
    },
    {
      "cell_type": "code",
      "source": [
        "model.evaluate(test_image, test_label, verbose=0)"
      ],
      "metadata": {
        "colab": {
          "base_uri": "https://localhost:8080/"
        },
        "id": "QPnKksWjsDpN",
        "outputId": "9f37767c-a1a3-4869-facb-34d62f30d3cf"
      },
      "execution_count": 8,
      "outputs": [
        {
          "output_type": "execute_result",
          "data": {
            "text/plain": [
              "[0.07415293157100677, 0.975600004196167]"
            ]
          },
          "metadata": {},
          "execution_count": 8
        }
      ]
    },
    {
      "cell_type": "code",
      "source": [
        "loop = len(hist.history[\"accuracy\"])\n",
        "\n",
        "loop"
      ],
      "metadata": {
        "colab": {
          "base_uri": "https://localhost:8080/"
        },
        "id": "J3aRjAnPsRDk",
        "outputId": "35630fe8-183c-486a-becc-9b22b04ad18d"
      },
      "execution_count": 9,
      "outputs": [
        {
          "output_type": "execute_result",
          "data": {
            "text/plain": [
              "4"
            ]
          },
          "metadata": {},
          "execution_count": 9
        }
      ]
    }
  ]
}